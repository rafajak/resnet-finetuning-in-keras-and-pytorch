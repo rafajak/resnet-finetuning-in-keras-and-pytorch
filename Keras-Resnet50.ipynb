{
 "cells": [
  {
   "cell_type": "markdown",
   "metadata": {},
   "source": [
    "### Importing dependencies"
   ]
  },
  {
   "cell_type": "code",
   "execution_count": 130,
   "metadata": {
    "scrolled": true
   },
   "outputs": [
    {
     "data": {
      "text/plain": [
       "'2.2.0'"
      ]
     },
     "execution_count": 130,
     "metadata": {},
     "output_type": "execute_result"
    }
   ],
   "source": [
    "import keras\n",
    "from keras import Sequential\n",
    "from keras import layers\n",
    "from keras.preprocessing import image\n",
    "from keras.preprocessing.image import ImageDataGenerator\n",
    "from keras.callbacks import ModelCheckpoint\n",
    "from keras.models import load_model\n",
    "\n",
    "import os, shutil\n",
    "from livelossplot import PlotLossesKeras\n",
    "\n",
    "keras.__version__"
   ]
  },
  {
   "cell_type": "code",
   "execution_count": 45,
   "metadata": {},
   "outputs": [
    {
     "name": "stdout",
     "output_type": "stream",
     "text": [
      "/mnt/ml-team/homes/rafal.jakubanis/blogpost2-resnet50\r\n"
     ]
    }
   ],
   "source": [
    "!pwd"
   ]
  },
  {
   "cell_type": "markdown",
   "metadata": {},
   "source": [
    "### Prepare data directories"
   ]
  },
  {
   "cell_type": "markdown",
   "metadata": {},
   "source": [
    "Let's prepare directories for our datacut.\n",
    "We'll use a fraction of the full dataset. We'll keep our data organized into train, test, validation folders; each with separate dogs and cats subfolders.\n"
   ]
  },
  {
   "cell_type": "code",
   "execution_count": 46,
   "metadata": {},
   "outputs": [],
   "source": [
    "original_dataset_dir = '/mnt/ml-team/homes/rafal.jakubanis/blogpost2-resnet50/data'\n",
    "\n",
    "# The directory where we will store our smaller dataset\n",
    "base_dir = '/mnt/ml-team/homes/rafal.jakubanis/blogpost2-resnet50/data_small'\n",
    "\n",
    "# We want to keep our data organized into train, test, validation folders, each with separate dogs and cats subfolders\n",
    "categories = ['cats', 'dogs']\n",
    "str_train_val_test = ['train','validation', 'test']\n",
    "if not os.path.exists(base_dir):\n",
    "    os.mkdir(base_dir)\n",
    "    print('Created directory: ', base_dir)\n",
    "        \n",
    "for dir_type in str_train_val_test:\n",
    "    train_test_val_dir = os.path.join(base_dir, dir_type)\n",
    "\n",
    "    if not os.path.exists(train_test_val_dir):\n",
    "        os.mkdir(train_test_val_dir)\n",
    "\n",
    "    for category in categories:\n",
    "        dir_type_category = os.path.join(train_test_val_dir, category)\n",
    "        \n",
    "        if not os.path.exists(dir_type_category):\n",
    "            os.mkdir(dir_type_category)\n",
    "            print('Created directory: ', dir_type_category)\n",
    "  "
   ]
  },
  {
   "cell_type": "markdown",
   "metadata": {},
   "source": [
    "### Organise train/validation/test data"
   ]
  },
  {
   "cell_type": "code",
   "execution_count": 47,
   "metadata": {
    "scrolled": true
   },
   "outputs": [],
   "source": [
    "directories_dict = {} # To store directory paths for data subsets.\n",
    "\n",
    "for range_, dir_type in zip([range(1000), range(1000, 1500), range(1500, 2000)], str_train_val_test):\n",
    "    for _, category in enumerate(categories):\n",
    "        fnames = [category[:-1] + \".\" + str(i) + \".\" + \"jpg\" for i in range_]\n",
    "        \n",
    "\n",
    "        if _ == 0:\n",
    "                directories_dict[str(dir_type)+ \"_dir\"] = os.path.join(base_dir, \n",
    "                                                                       dir_type, \n",
    "                                                                       )                          \n",
    "        for _, fname in enumerate(fnames):\n",
    "            \n",
    "            if _ == 0:\n",
    "                directories_dict[str(dir_type)+ \"_\" +str(category) + \"_dir\"] =  os.path.join(base_dir, \n",
    "                                                                                         dir_type, \n",
    "                                                                                         category)   \n",
    "#             source = os.path.join(original_dataset_dir, fname)\n",
    "#             destination = os.path.join(base_dir, dir_type, category, fname)\n",
    "            \n",
    "            \n",
    "#             shutil.copyfile(source, destination)"
   ]
  },
  {
   "cell_type": "code",
   "execution_count": 48,
   "metadata": {},
   "outputs": [
    {
     "data": {
      "text/plain": [
       "{'test_cats_dir': '/mnt/ml-team/homes/rafal.jakubanis/blogpost2-resnet50/data_small/test/cats',\n",
       " 'test_dir': '/mnt/ml-team/homes/rafal.jakubanis/blogpost2-resnet50/data_small/test',\n",
       " 'test_dogs_dir': '/mnt/ml-team/homes/rafal.jakubanis/blogpost2-resnet50/data_small/test/dogs',\n",
       " 'train_cats_dir': '/mnt/ml-team/homes/rafal.jakubanis/blogpost2-resnet50/data_small/train/cats',\n",
       " 'train_dir': '/mnt/ml-team/homes/rafal.jakubanis/blogpost2-resnet50/data_small/train',\n",
       " 'train_dogs_dir': '/mnt/ml-team/homes/rafal.jakubanis/blogpost2-resnet50/data_small/train/dogs',\n",
       " 'validation_cats_dir': '/mnt/ml-team/homes/rafal.jakubanis/blogpost2-resnet50/data_small/validation/cats',\n",
       " 'validation_dir': '/mnt/ml-team/homes/rafal.jakubanis/blogpost2-resnet50/data_small/validation',\n",
       " 'validation_dogs_dir': '/mnt/ml-team/homes/rafal.jakubanis/blogpost2-resnet50/data_small/validation/dogs'}"
      ]
     },
     "execution_count": 48,
     "metadata": {},
     "output_type": "execute_result"
    }
   ],
   "source": [
    "directories_dict"
   ]
  },
  {
   "cell_type": "code",
   "execution_count": 49,
   "metadata": {},
   "outputs": [
    {
     "name": "stdout",
     "output_type": "stream",
     "text": [
      "Total training cat images: 1000\n",
      "Total training dog images: 1000\n",
      "--------------------------------\n",
      "Total test cat images: 500\n",
      "Total test dog images: 500\n",
      "--------------------------------\n",
      "Total validation cat images: 500\n",
      "Total validation dog images: 500\n"
     ]
    }
   ],
   "source": [
    "print('Total training cat images:', len(os.listdir(directories_dict['train_cats_dir'])))\n",
    "print('Total training dog images:', len(os.listdir(directories_dict['train_cats_dir'])))\n",
    "print(\"-\"*32)\n",
    "print('Total test cat images:', len(os.listdir(directories_dict['test_cats_dir'])))\n",
    "print('Total test dog images:', len(os.listdir(directories_dict['test_dogs_dir'])))\n",
    "print(\"-\"*32)\n",
    "print('Total validation cat images:', len(os.listdir(directories_dict['validation_cats_dir'])))\n",
    "print('Total validation dog images:', len(os.listdir(directories_dict['validation_dogs_dir'])))\n"
   ]
  },
  {
   "cell_type": "markdown",
   "metadata": {},
   "source": [
    "### Create Keras data generators "
   ]
  },
  {
   "cell_type": "markdown",
   "metadata": {},
   "source": [
    "[text on data generators]"
   ]
  },
  {
   "cell_type": "code",
   "execution_count": 51,
   "metadata": {},
   "outputs": [
    {
     "name": "stdout",
     "output_type": "stream",
     "text": [
      "Found 2000 images belonging to 2 classes.\n",
      "Found 1000 images belonging to 2 classes.\n"
     ]
    }
   ],
   "source": [
    "train_datagen = ImageDataGenerator(\n",
    "    rescale=1 / 255,\n",
    "    rotation_range=30,\n",
    "    width_shift_range=0.2,\n",
    "    height_shift_range=0.2,\n",
    "    shear_range=0.2,\n",
    "    zoom_range=0.2,\n",
    "    horizontal_flip=False,\n",
    "    vertical_flip=True)\n",
    "\n",
    "test_datagen = ImageDataGenerator(rescale=1 / 255)\n",
    "\n",
    "train_generator = test_datagen.flow_from_directory(\n",
    "    directories_dict['train_dir'],\n",
    "    target_size=(197, 197),\n",
    "    batch_size=20,\n",
    "    # Since we use binary_crossentropy loss, we need binary labels\n",
    "    class_mode='binary')\n",
    "\n",
    "validation_generator = test_datagen.flow_from_directory(\n",
    "    directories_dict['validation_dir'],\n",
    "    target_size=(197, 197),\n",
    "    batch_size=20,\n",
    "    class_mode='binary')"
   ]
  },
  {
   "cell_type": "markdown",
   "metadata": {},
   "source": [
    "### Import pre-trained ResNet "
   ]
  },
  {
   "cell_type": "code",
   "execution_count": 70,
   "metadata": {
    "scrolled": true
   },
   "outputs": [
    {
     "name": "stdout",
     "output_type": "stream",
     "text": [
      "__________________________________________________________________________________________________\n",
      "Layer (type)                    Output Shape         Param #     Connected to                     \n",
      "==================================================================================================\n",
      "input_16 (InputLayer)           (None, 197, 197, 3)  0                                            \n",
      "__________________________________________________________________________________________________\n",
      "conv1_pad (ZeroPadding2D)       (None, 203, 203, 3)  0           input_16[0][0]                   \n",
      "__________________________________________________________________________________________________\n",
      "conv1 (Conv2D)                  (None, 99, 99, 64)   9472        conv1_pad[0][0]                  \n",
      "__________________________________________________________________________________________________\n",
      "bn_conv1 (BatchNormalization)   (None, 99, 99, 64)   256         conv1[0][0]                      \n",
      "__________________________________________________________________________________________________\n",
      "activation_736 (Activation)     (None, 99, 99, 64)   0           bn_conv1[0][0]                   \n",
      "__________________________________________________________________________________________________\n",
      "max_pooling2d_16 (MaxPooling2D) (None, 49, 49, 64)   0           activation_736[0][0]             \n",
      "__________________________________________________________________________________________________\n",
      "res2a_branch2a (Conv2D)         (None, 49, 49, 64)   4160        max_pooling2d_16[0][0]           \n",
      "__________________________________________________________________________________________________\n",
      "bn2a_branch2a (BatchNormalizati (None, 49, 49, 64)   256         res2a_branch2a[0][0]             \n",
      "__________________________________________________________________________________________________\n",
      "activation_737 (Activation)     (None, 49, 49, 64)   0           bn2a_branch2a[0][0]              \n",
      "__________________________________________________________________________________________________\n",
      "res2a_branch2b (Conv2D)         (None, 49, 49, 64)   36928       activation_737[0][0]             \n",
      "__________________________________________________________________________________________________\n",
      "bn2a_branch2b (BatchNormalizati (None, 49, 49, 64)   256         res2a_branch2b[0][0]             \n",
      "__________________________________________________________________________________________________\n",
      "activation_738 (Activation)     (None, 49, 49, 64)   0           bn2a_branch2b[0][0]              \n",
      "__________________________________________________________________________________________________\n",
      "res2a_branch2c (Conv2D)         (None, 49, 49, 256)  16640       activation_738[0][0]             \n",
      "__________________________________________________________________________________________________\n",
      "res2a_branch1 (Conv2D)          (None, 49, 49, 256)  16640       max_pooling2d_16[0][0]           \n",
      "__________________________________________________________________________________________________\n",
      "bn2a_branch2c (BatchNormalizati (None, 49, 49, 256)  1024        res2a_branch2c[0][0]             \n",
      "__________________________________________________________________________________________________\n",
      "bn2a_branch1 (BatchNormalizatio (None, 49, 49, 256)  1024        res2a_branch1[0][0]              \n",
      "__________________________________________________________________________________________________\n",
      "add_241 (Add)                   (None, 49, 49, 256)  0           bn2a_branch2c[0][0]              \n",
      "                                                                 bn2a_branch1[0][0]               \n",
      "__________________________________________________________________________________________________\n",
      "activation_739 (Activation)     (None, 49, 49, 256)  0           add_241[0][0]                    \n",
      "__________________________________________________________________________________________________\n",
      "res2b_branch2a (Conv2D)         (None, 49, 49, 64)   16448       activation_739[0][0]             \n",
      "__________________________________________________________________________________________________\n",
      "bn2b_branch2a (BatchNormalizati (None, 49, 49, 64)   256         res2b_branch2a[0][0]             \n",
      "__________________________________________________________________________________________________\n",
      "activation_740 (Activation)     (None, 49, 49, 64)   0           bn2b_branch2a[0][0]              \n",
      "__________________________________________________________________________________________________\n",
      "res2b_branch2b (Conv2D)         (None, 49, 49, 64)   36928       activation_740[0][0]             \n",
      "__________________________________________________________________________________________________\n",
      "bn2b_branch2b (BatchNormalizati (None, 49, 49, 64)   256         res2b_branch2b[0][0]             \n",
      "__________________________________________________________________________________________________\n",
      "activation_741 (Activation)     (None, 49, 49, 64)   0           bn2b_branch2b[0][0]              \n",
      "__________________________________________________________________________________________________\n",
      "res2b_branch2c (Conv2D)         (None, 49, 49, 256)  16640       activation_741[0][0]             \n",
      "__________________________________________________________________________________________________\n",
      "bn2b_branch2c (BatchNormalizati (None, 49, 49, 256)  1024        res2b_branch2c[0][0]             \n",
      "__________________________________________________________________________________________________\n",
      "add_242 (Add)                   (None, 49, 49, 256)  0           bn2b_branch2c[0][0]              \n",
      "                                                                 activation_739[0][0]             \n",
      "__________________________________________________________________________________________________\n",
      "activation_742 (Activation)     (None, 49, 49, 256)  0           add_242[0][0]                    \n",
      "__________________________________________________________________________________________________\n",
      "res2c_branch2a (Conv2D)         (None, 49, 49, 64)   16448       activation_742[0][0]             \n",
      "__________________________________________________________________________________________________\n",
      "bn2c_branch2a (BatchNormalizati (None, 49, 49, 64)   256         res2c_branch2a[0][0]             \n",
      "__________________________________________________________________________________________________\n",
      "activation_743 (Activation)     (None, 49, 49, 64)   0           bn2c_branch2a[0][0]              \n",
      "__________________________________________________________________________________________________\n",
      "res2c_branch2b (Conv2D)         (None, 49, 49, 64)   36928       activation_743[0][0]             \n",
      "__________________________________________________________________________________________________\n",
      "bn2c_branch2b (BatchNormalizati (None, 49, 49, 64)   256         res2c_branch2b[0][0]             \n",
      "__________________________________________________________________________________________________\n",
      "activation_744 (Activation)     (None, 49, 49, 64)   0           bn2c_branch2b[0][0]              \n",
      "__________________________________________________________________________________________________\n",
      "res2c_branch2c (Conv2D)         (None, 49, 49, 256)  16640       activation_744[0][0]             \n",
      "__________________________________________________________________________________________________\n",
      "bn2c_branch2c (BatchNormalizati (None, 49, 49, 256)  1024        res2c_branch2c[0][0]             \n",
      "__________________________________________________________________________________________________\n",
      "add_243 (Add)                   (None, 49, 49, 256)  0           bn2c_branch2c[0][0]              \n",
      "                                                                 activation_742[0][0]             \n",
      "__________________________________________________________________________________________________\n",
      "activation_745 (Activation)     (None, 49, 49, 256)  0           add_243[0][0]                    \n",
      "__________________________________________________________________________________________________\n",
      "res3a_branch2a (Conv2D)         (None, 25, 25, 128)  32896       activation_745[0][0]             \n",
      "__________________________________________________________________________________________________\n",
      "bn3a_branch2a (BatchNormalizati (None, 25, 25, 128)  512         res3a_branch2a[0][0]             \n",
      "__________________________________________________________________________________________________\n",
      "activation_746 (Activation)     (None, 25, 25, 128)  0           bn3a_branch2a[0][0]              \n",
      "__________________________________________________________________________________________________\n",
      "res3a_branch2b (Conv2D)         (None, 25, 25, 128)  147584      activation_746[0][0]             \n",
      "__________________________________________________________________________________________________\n",
      "bn3a_branch2b (BatchNormalizati (None, 25, 25, 128)  512         res3a_branch2b[0][0]             \n",
      "__________________________________________________________________________________________________\n",
      "activation_747 (Activation)     (None, 25, 25, 128)  0           bn3a_branch2b[0][0]              \n",
      "__________________________________________________________________________________________________\n",
      "res3a_branch2c (Conv2D)         (None, 25, 25, 512)  66048       activation_747[0][0]             \n",
      "__________________________________________________________________________________________________\n",
      "res3a_branch1 (Conv2D)          (None, 25, 25, 512)  131584      activation_745[0][0]             \n",
      "__________________________________________________________________________________________________\n",
      "bn3a_branch2c (BatchNormalizati (None, 25, 25, 512)  2048        res3a_branch2c[0][0]             \n",
      "__________________________________________________________________________________________________\n",
      "bn3a_branch1 (BatchNormalizatio (None, 25, 25, 512)  2048        res3a_branch1[0][0]              \n",
      "__________________________________________________________________________________________________\n",
      "add_244 (Add)                   (None, 25, 25, 512)  0           bn3a_branch2c[0][0]              \n",
      "                                                                 bn3a_branch1[0][0]               \n",
      "__________________________________________________________________________________________________\n",
      "activation_748 (Activation)     (None, 25, 25, 512)  0           add_244[0][0]                    \n",
      "__________________________________________________________________________________________________\n",
      "res3b_branch2a (Conv2D)         (None, 25, 25, 128)  65664       activation_748[0][0]             \n",
      "__________________________________________________________________________________________________\n",
      "bn3b_branch2a (BatchNormalizati (None, 25, 25, 128)  512         res3b_branch2a[0][0]             \n",
      "__________________________________________________________________________________________________\n",
      "activation_749 (Activation)     (None, 25, 25, 128)  0           bn3b_branch2a[0][0]              \n",
      "__________________________________________________________________________________________________\n",
      "res3b_branch2b (Conv2D)         (None, 25, 25, 128)  147584      activation_749[0][0]             \n",
      "__________________________________________________________________________________________________\n",
      "bn3b_branch2b (BatchNormalizati (None, 25, 25, 128)  512         res3b_branch2b[0][0]             \n",
      "__________________________________________________________________________________________________\n",
      "activation_750 (Activation)     (None, 25, 25, 128)  0           bn3b_branch2b[0][0]              \n",
      "__________________________________________________________________________________________________\n",
      "res3b_branch2c (Conv2D)         (None, 25, 25, 512)  66048       activation_750[0][0]             \n",
      "__________________________________________________________________________________________________\n",
      "bn3b_branch2c (BatchNormalizati (None, 25, 25, 512)  2048        res3b_branch2c[0][0]             \n",
      "__________________________________________________________________________________________________\n",
      "add_245 (Add)                   (None, 25, 25, 512)  0           bn3b_branch2c[0][0]              \n",
      "                                                                 activation_748[0][0]             \n",
      "__________________________________________________________________________________________________\n",
      "activation_751 (Activation)     (None, 25, 25, 512)  0           add_245[0][0]                    \n",
      "__________________________________________________________________________________________________\n",
      "res3c_branch2a (Conv2D)         (None, 25, 25, 128)  65664       activation_751[0][0]             \n",
      "__________________________________________________________________________________________________\n",
      "bn3c_branch2a (BatchNormalizati (None, 25, 25, 128)  512         res3c_branch2a[0][0]             \n",
      "__________________________________________________________________________________________________\n",
      "activation_752 (Activation)     (None, 25, 25, 128)  0           bn3c_branch2a[0][0]              \n",
      "__________________________________________________________________________________________________\n",
      "res3c_branch2b (Conv2D)         (None, 25, 25, 128)  147584      activation_752[0][0]             \n",
      "__________________________________________________________________________________________________\n",
      "bn3c_branch2b (BatchNormalizati (None, 25, 25, 128)  512         res3c_branch2b[0][0]             \n",
      "__________________________________________________________________________________________________\n",
      "activation_753 (Activation)     (None, 25, 25, 128)  0           bn3c_branch2b[0][0]              \n",
      "__________________________________________________________________________________________________\n",
      "res3c_branch2c (Conv2D)         (None, 25, 25, 512)  66048       activation_753[0][0]             \n",
      "__________________________________________________________________________________________________\n",
      "bn3c_branch2c (BatchNormalizati (None, 25, 25, 512)  2048        res3c_branch2c[0][0]             \n",
      "__________________________________________________________________________________________________\n",
      "add_246 (Add)                   (None, 25, 25, 512)  0           bn3c_branch2c[0][0]              \n",
      "                                                                 activation_751[0][0]             \n",
      "__________________________________________________________________________________________________\n",
      "activation_754 (Activation)     (None, 25, 25, 512)  0           add_246[0][0]                    \n",
      "__________________________________________________________________________________________________\n",
      "res3d_branch2a (Conv2D)         (None, 25, 25, 128)  65664       activation_754[0][0]             \n",
      "__________________________________________________________________________________________________\n",
      "bn3d_branch2a (BatchNormalizati (None, 25, 25, 128)  512         res3d_branch2a[0][0]             \n",
      "__________________________________________________________________________________________________\n",
      "activation_755 (Activation)     (None, 25, 25, 128)  0           bn3d_branch2a[0][0]              \n",
      "__________________________________________________________________________________________________\n",
      "res3d_branch2b (Conv2D)         (None, 25, 25, 128)  147584      activation_755[0][0]             \n",
      "__________________________________________________________________________________________________\n",
      "bn3d_branch2b (BatchNormalizati (None, 25, 25, 128)  512         res3d_branch2b[0][0]             \n",
      "__________________________________________________________________________________________________\n",
      "activation_756 (Activation)     (None, 25, 25, 128)  0           bn3d_branch2b[0][0]              \n",
      "__________________________________________________________________________________________________\n",
      "res3d_branch2c (Conv2D)         (None, 25, 25, 512)  66048       activation_756[0][0]             \n",
      "__________________________________________________________________________________________________\n",
      "bn3d_branch2c (BatchNormalizati (None, 25, 25, 512)  2048        res3d_branch2c[0][0]             \n",
      "__________________________________________________________________________________________________\n",
      "add_247 (Add)                   (None, 25, 25, 512)  0           bn3d_branch2c[0][0]              \n",
      "                                                                 activation_754[0][0]             \n",
      "__________________________________________________________________________________________________\n",
      "activation_757 (Activation)     (None, 25, 25, 512)  0           add_247[0][0]                    \n",
      "__________________________________________________________________________________________________\n",
      "res4a_branch2a (Conv2D)         (None, 13, 13, 256)  131328      activation_757[0][0]             \n",
      "__________________________________________________________________________________________________\n",
      "bn4a_branch2a (BatchNormalizati (None, 13, 13, 256)  1024        res4a_branch2a[0][0]             \n",
      "__________________________________________________________________________________________________\n",
      "activation_758 (Activation)     (None, 13, 13, 256)  0           bn4a_branch2a[0][0]              \n",
      "__________________________________________________________________________________________________\n",
      "res4a_branch2b (Conv2D)         (None, 13, 13, 256)  590080      activation_758[0][0]             \n",
      "__________________________________________________________________________________________________\n",
      "bn4a_branch2b (BatchNormalizati (None, 13, 13, 256)  1024        res4a_branch2b[0][0]             \n",
      "__________________________________________________________________________________________________\n",
      "activation_759 (Activation)     (None, 13, 13, 256)  0           bn4a_branch2b[0][0]              \n",
      "__________________________________________________________________________________________________\n",
      "res4a_branch2c (Conv2D)         (None, 13, 13, 1024) 263168      activation_759[0][0]             \n",
      "__________________________________________________________________________________________________\n",
      "res4a_branch1 (Conv2D)          (None, 13, 13, 1024) 525312      activation_757[0][0]             \n",
      "__________________________________________________________________________________________________\n",
      "bn4a_branch2c (BatchNormalizati (None, 13, 13, 1024) 4096        res4a_branch2c[0][0]             \n",
      "__________________________________________________________________________________________________\n",
      "bn4a_branch1 (BatchNormalizatio (None, 13, 13, 1024) 4096        res4a_branch1[0][0]              \n",
      "__________________________________________________________________________________________________\n",
      "add_248 (Add)                   (None, 13, 13, 1024) 0           bn4a_branch2c[0][0]              \n",
      "                                                                 bn4a_branch1[0][0]               \n",
      "__________________________________________________________________________________________________\n",
      "activation_760 (Activation)     (None, 13, 13, 1024) 0           add_248[0][0]                    \n",
      "__________________________________________________________________________________________________\n",
      "res4b_branch2a (Conv2D)         (None, 13, 13, 256)  262400      activation_760[0][0]             \n",
      "__________________________________________________________________________________________________\n",
      "bn4b_branch2a (BatchNormalizati (None, 13, 13, 256)  1024        res4b_branch2a[0][0]             \n",
      "__________________________________________________________________________________________________\n",
      "activation_761 (Activation)     (None, 13, 13, 256)  0           bn4b_branch2a[0][0]              \n",
      "__________________________________________________________________________________________________\n",
      "res4b_branch2b (Conv2D)         (None, 13, 13, 256)  590080      activation_761[0][0]             \n",
      "__________________________________________________________________________________________________\n",
      "bn4b_branch2b (BatchNormalizati (None, 13, 13, 256)  1024        res4b_branch2b[0][0]             \n",
      "__________________________________________________________________________________________________\n",
      "activation_762 (Activation)     (None, 13, 13, 256)  0           bn4b_branch2b[0][0]              \n",
      "__________________________________________________________________________________________________\n",
      "res4b_branch2c (Conv2D)         (None, 13, 13, 1024) 263168      activation_762[0][0]             \n",
      "__________________________________________________________________________________________________\n",
      "bn4b_branch2c (BatchNormalizati (None, 13, 13, 1024) 4096        res4b_branch2c[0][0]             \n",
      "__________________________________________________________________________________________________\n",
      "add_249 (Add)                   (None, 13, 13, 1024) 0           bn4b_branch2c[0][0]              \n",
      "                                                                 activation_760[0][0]             \n",
      "__________________________________________________________________________________________________\n",
      "activation_763 (Activation)     (None, 13, 13, 1024) 0           add_249[0][0]                    \n",
      "__________________________________________________________________________________________________\n",
      "res4c_branch2a (Conv2D)         (None, 13, 13, 256)  262400      activation_763[0][0]             \n",
      "__________________________________________________________________________________________________\n",
      "bn4c_branch2a (BatchNormalizati (None, 13, 13, 256)  1024        res4c_branch2a[0][0]             \n",
      "__________________________________________________________________________________________________\n",
      "activation_764 (Activation)     (None, 13, 13, 256)  0           bn4c_branch2a[0][0]              \n",
      "__________________________________________________________________________________________________\n",
      "res4c_branch2b (Conv2D)         (None, 13, 13, 256)  590080      activation_764[0][0]             \n",
      "__________________________________________________________________________________________________\n",
      "bn4c_branch2b (BatchNormalizati (None, 13, 13, 256)  1024        res4c_branch2b[0][0]             \n",
      "__________________________________________________________________________________________________\n",
      "activation_765 (Activation)     (None, 13, 13, 256)  0           bn4c_branch2b[0][0]              \n",
      "__________________________________________________________________________________________________\n",
      "res4c_branch2c (Conv2D)         (None, 13, 13, 1024) 263168      activation_765[0][0]             \n",
      "__________________________________________________________________________________________________\n",
      "bn4c_branch2c (BatchNormalizati (None, 13, 13, 1024) 4096        res4c_branch2c[0][0]             \n",
      "__________________________________________________________________________________________________\n",
      "add_250 (Add)                   (None, 13, 13, 1024) 0           bn4c_branch2c[0][0]              \n",
      "                                                                 activation_763[0][0]             \n",
      "__________________________________________________________________________________________________\n",
      "activation_766 (Activation)     (None, 13, 13, 1024) 0           add_250[0][0]                    \n",
      "__________________________________________________________________________________________________\n",
      "res4d_branch2a (Conv2D)         (None, 13, 13, 256)  262400      activation_766[0][0]             \n",
      "__________________________________________________________________________________________________\n",
      "bn4d_branch2a (BatchNormalizati (None, 13, 13, 256)  1024        res4d_branch2a[0][0]             \n",
      "__________________________________________________________________________________________________\n",
      "activation_767 (Activation)     (None, 13, 13, 256)  0           bn4d_branch2a[0][0]              \n",
      "__________________________________________________________________________________________________\n",
      "res4d_branch2b (Conv2D)         (None, 13, 13, 256)  590080      activation_767[0][0]             \n",
      "__________________________________________________________________________________________________\n",
      "bn4d_branch2b (BatchNormalizati (None, 13, 13, 256)  1024        res4d_branch2b[0][0]             \n",
      "__________________________________________________________________________________________________\n",
      "activation_768 (Activation)     (None, 13, 13, 256)  0           bn4d_branch2b[0][0]              \n",
      "__________________________________________________________________________________________________\n",
      "res4d_branch2c (Conv2D)         (None, 13, 13, 1024) 263168      activation_768[0][0]             \n",
      "__________________________________________________________________________________________________\n",
      "bn4d_branch2c (BatchNormalizati (None, 13, 13, 1024) 4096        res4d_branch2c[0][0]             \n",
      "__________________________________________________________________________________________________\n",
      "add_251 (Add)                   (None, 13, 13, 1024) 0           bn4d_branch2c[0][0]              \n",
      "                                                                 activation_766[0][0]             \n",
      "__________________________________________________________________________________________________\n",
      "activation_769 (Activation)     (None, 13, 13, 1024) 0           add_251[0][0]                    \n",
      "__________________________________________________________________________________________________\n",
      "res4e_branch2a (Conv2D)         (None, 13, 13, 256)  262400      activation_769[0][0]             \n",
      "__________________________________________________________________________________________________\n",
      "bn4e_branch2a (BatchNormalizati (None, 13, 13, 256)  1024        res4e_branch2a[0][0]             \n",
      "__________________________________________________________________________________________________\n",
      "activation_770 (Activation)     (None, 13, 13, 256)  0           bn4e_branch2a[0][0]              \n",
      "__________________________________________________________________________________________________\n",
      "res4e_branch2b (Conv2D)         (None, 13, 13, 256)  590080      activation_770[0][0]             \n",
      "__________________________________________________________________________________________________\n",
      "bn4e_branch2b (BatchNormalizati (None, 13, 13, 256)  1024        res4e_branch2b[0][0]             \n",
      "__________________________________________________________________________________________________\n",
      "activation_771 (Activation)     (None, 13, 13, 256)  0           bn4e_branch2b[0][0]              \n",
      "__________________________________________________________________________________________________\n",
      "res4e_branch2c (Conv2D)         (None, 13, 13, 1024) 263168      activation_771[0][0]             \n",
      "__________________________________________________________________________________________________\n",
      "bn4e_branch2c (BatchNormalizati (None, 13, 13, 1024) 4096        res4e_branch2c[0][0]             \n",
      "__________________________________________________________________________________________________\n",
      "add_252 (Add)                   (None, 13, 13, 1024) 0           bn4e_branch2c[0][0]              \n",
      "                                                                 activation_769[0][0]             \n",
      "__________________________________________________________________________________________________\n",
      "activation_772 (Activation)     (None, 13, 13, 1024) 0           add_252[0][0]                    \n",
      "__________________________________________________________________________________________________\n",
      "res4f_branch2a (Conv2D)         (None, 13, 13, 256)  262400      activation_772[0][0]             \n",
      "__________________________________________________________________________________________________\n",
      "bn4f_branch2a (BatchNormalizati (None, 13, 13, 256)  1024        res4f_branch2a[0][0]             \n",
      "__________________________________________________________________________________________________\n",
      "activation_773 (Activation)     (None, 13, 13, 256)  0           bn4f_branch2a[0][0]              \n",
      "__________________________________________________________________________________________________\n",
      "res4f_branch2b (Conv2D)         (None, 13, 13, 256)  590080      activation_773[0][0]             \n",
      "__________________________________________________________________________________________________\n",
      "bn4f_branch2b (BatchNormalizati (None, 13, 13, 256)  1024        res4f_branch2b[0][0]             \n",
      "__________________________________________________________________________________________________\n",
      "activation_774 (Activation)     (None, 13, 13, 256)  0           bn4f_branch2b[0][0]              \n",
      "__________________________________________________________________________________________________\n",
      "res4f_branch2c (Conv2D)         (None, 13, 13, 1024) 263168      activation_774[0][0]             \n",
      "__________________________________________________________________________________________________\n",
      "bn4f_branch2c (BatchNormalizati (None, 13, 13, 1024) 4096        res4f_branch2c[0][0]             \n",
      "__________________________________________________________________________________________________\n",
      "add_253 (Add)                   (None, 13, 13, 1024) 0           bn4f_branch2c[0][0]              \n",
      "                                                                 activation_772[0][0]             \n",
      "__________________________________________________________________________________________________\n",
      "activation_775 (Activation)     (None, 13, 13, 1024) 0           add_253[0][0]                    \n",
      "__________________________________________________________________________________________________\n",
      "res5a_branch2a (Conv2D)         (None, 7, 7, 512)    524800      activation_775[0][0]             \n",
      "__________________________________________________________________________________________________\n",
      "bn5a_branch2a (BatchNormalizati (None, 7, 7, 512)    2048        res5a_branch2a[0][0]             \n",
      "__________________________________________________________________________________________________\n",
      "activation_776 (Activation)     (None, 7, 7, 512)    0           bn5a_branch2a[0][0]              \n",
      "__________________________________________________________________________________________________\n",
      "res5a_branch2b (Conv2D)         (None, 7, 7, 512)    2359808     activation_776[0][0]             \n",
      "__________________________________________________________________________________________________\n",
      "bn5a_branch2b (BatchNormalizati (None, 7, 7, 512)    2048        res5a_branch2b[0][0]             \n",
      "__________________________________________________________________________________________________\n",
      "activation_777 (Activation)     (None, 7, 7, 512)    0           bn5a_branch2b[0][0]              \n",
      "__________________________________________________________________________________________________\n",
      "res5a_branch2c (Conv2D)         (None, 7, 7, 2048)   1050624     activation_777[0][0]             \n",
      "__________________________________________________________________________________________________\n",
      "res5a_branch1 (Conv2D)          (None, 7, 7, 2048)   2099200     activation_775[0][0]             \n",
      "__________________________________________________________________________________________________\n",
      "bn5a_branch2c (BatchNormalizati (None, 7, 7, 2048)   8192        res5a_branch2c[0][0]             \n",
      "__________________________________________________________________________________________________\n",
      "bn5a_branch1 (BatchNormalizatio (None, 7, 7, 2048)   8192        res5a_branch1[0][0]              \n",
      "__________________________________________________________________________________________________\n",
      "add_254 (Add)                   (None, 7, 7, 2048)   0           bn5a_branch2c[0][0]              \n",
      "                                                                 bn5a_branch1[0][0]               \n",
      "__________________________________________________________________________________________________\n",
      "activation_778 (Activation)     (None, 7, 7, 2048)   0           add_254[0][0]                    \n",
      "__________________________________________________________________________________________________\n",
      "res5b_branch2a (Conv2D)         (None, 7, 7, 512)    1049088     activation_778[0][0]             \n",
      "__________________________________________________________________________________________________\n",
      "bn5b_branch2a (BatchNormalizati (None, 7, 7, 512)    2048        res5b_branch2a[0][0]             \n",
      "__________________________________________________________________________________________________\n",
      "activation_779 (Activation)     (None, 7, 7, 512)    0           bn5b_branch2a[0][0]              \n",
      "__________________________________________________________________________________________________\n",
      "res5b_branch2b (Conv2D)         (None, 7, 7, 512)    2359808     activation_779[0][0]             \n",
      "__________________________________________________________________________________________________\n",
      "bn5b_branch2b (BatchNormalizati (None, 7, 7, 512)    2048        res5b_branch2b[0][0]             \n",
      "__________________________________________________________________________________________________\n",
      "activation_780 (Activation)     (None, 7, 7, 512)    0           bn5b_branch2b[0][0]              \n",
      "__________________________________________________________________________________________________\n",
      "res5b_branch2c (Conv2D)         (None, 7, 7, 2048)   1050624     activation_780[0][0]             \n",
      "__________________________________________________________________________________________________\n",
      "bn5b_branch2c (BatchNormalizati (None, 7, 7, 2048)   8192        res5b_branch2c[0][0]             \n",
      "__________________________________________________________________________________________________\n",
      "add_255 (Add)                   (None, 7, 7, 2048)   0           bn5b_branch2c[0][0]              \n",
      "                                                                 activation_778[0][0]             \n",
      "__________________________________________________________________________________________________\n",
      "activation_781 (Activation)     (None, 7, 7, 2048)   0           add_255[0][0]                    \n",
      "__________________________________________________________________________________________________\n",
      "res5c_branch2a (Conv2D)         (None, 7, 7, 512)    1049088     activation_781[0][0]             \n",
      "__________________________________________________________________________________________________\n",
      "bn5c_branch2a (BatchNormalizati (None, 7, 7, 512)    2048        res5c_branch2a[0][0]             \n",
      "__________________________________________________________________________________________________\n",
      "activation_782 (Activation)     (None, 7, 7, 512)    0           bn5c_branch2a[0][0]              \n",
      "__________________________________________________________________________________________________\n",
      "res5c_branch2b (Conv2D)         (None, 7, 7, 512)    2359808     activation_782[0][0]             \n",
      "__________________________________________________________________________________________________\n",
      "bn5c_branch2b (BatchNormalizati (None, 7, 7, 512)    2048        res5c_branch2b[0][0]             \n",
      "__________________________________________________________________________________________________\n",
      "activation_783 (Activation)     (None, 7, 7, 512)    0           bn5c_branch2b[0][0]              \n",
      "__________________________________________________________________________________________________\n",
      "res5c_branch2c (Conv2D)         (None, 7, 7, 2048)   1050624     activation_783[0][0]             \n",
      "__________________________________________________________________________________________________\n",
      "bn5c_branch2c (BatchNormalizati (None, 7, 7, 2048)   8192        res5c_branch2c[0][0]             \n",
      "__________________________________________________________________________________________________\n",
      "add_256 (Add)                   (None, 7, 7, 2048)   0           bn5c_branch2c[0][0]              \n",
      "                                                                 activation_781[0][0]             \n",
      "__________________________________________________________________________________________________\n",
      "activation_784 (Activation)     (None, 7, 7, 2048)   0           add_256[0][0]                    \n",
      "__________________________________________________________________________________________________\n",
      "global_average_pooling2d_16 (Gl (None, 2048)         0           activation_784[0][0]             \n",
      "==================================================================================================\n",
      "Total params: 23,587,712\n",
      "Trainable params: 23,534,592\n",
      "Non-trainable params: 53,120\n",
      "__________________________________________________________________________________________________\n"
     ]
    }
   ],
   "source": [
    "from keras.applications import ResNet50\n",
    "K.set_learning_phase(0) # see https://github.com/keras-team/keras/issues/9214  and https://github.com/keras-team/keras/pull/9965\n",
    "\n",
    "\n",
    "conv_base = ResNet50(\n",
    "    weights='imagenet',\n",
    "    include_top=False,\n",
    "    input_shape=(197, 197, 3),\n",
    "    pooling='avg'\n",
    ")\n",
    "\n",
    "conv_base.summary()"
   ]
  },
  {
   "cell_type": "code",
   "execution_count": 54,
   "metadata": {},
   "outputs": [
    {
     "data": {
      "text/plain": [
       "175"
      ]
     },
     "execution_count": 54,
     "metadata": {},
     "output_type": "execute_result"
    }
   ],
   "source": [
    "len(conv_base.layers)"
   ]
  },
  {
   "cell_type": "code",
   "execution_count": 67,
   "metadata": {},
   "outputs": [
    {
     "data": {
      "text/plain": [
       "212"
      ]
     },
     "execution_count": 67,
     "metadata": {},
     "output_type": "execute_result"
    }
   ],
   "source": [
    "len(conv_base.trainable_weights)"
   ]
  },
  {
   "cell_type": "code",
   "execution_count": 13,
   "metadata": {},
   "outputs": [],
   "source": [
    "# #popping the 5th block...\n",
    "# for i in range(32):\n",
    "#     conv_base.layers.pop(-2)"
   ]
  },
  {
   "cell_type": "code",
   "execution_count": 14,
   "metadata": {},
   "outputs": [],
   "source": [
    "# for i, layer in enumerate(conv_base.layers):\n",
    "#     if < 32:\n",
    "#         conv_base.layers.pop()"
   ]
  },
  {
   "cell_type": "code",
   "execution_count": 15,
   "metadata": {},
   "outputs": [],
   "source": [
    "# for i, layer in enumerate(conv_base.layers):\n",
    "#     if i < 81:\n",
    "#         conv_base.layers.pop()"
   ]
  },
  {
   "cell_type": "code",
   "execution_count": 16,
   "metadata": {},
   "outputs": [],
   "source": [
    "# # 5th block ON, the rest OFF\n",
    "# for i, layer in enumerate(conv_base.layers):\n",
    "#     layer.trainable = i > len(conv_base.layers)-66\n",
    "#     print(layer.name, layer.trainable)\n",
    "\n"
   ]
  },
  {
   "cell_type": "code",
   "execution_count": 17,
   "metadata": {},
   "outputs": [],
   "source": [
    "# # 4th block made trainable, the rest frozen\n",
    "\n",
    "# for i, layer in enumerate(conv_base.layers):\n",
    "#     layer.trainable = i > len(conv_base.layers)-65\n",
    "#     print(layer.name, layer.trainable)\n",
    "\n"
   ]
  },
  {
   "cell_type": "code",
   "execution_count": 18,
   "metadata": {
    "scrolled": true
   },
   "outputs": [],
   "source": [
    "# # 5th block ON, the rest OFF\n",
    "# for i, layer in enumerate(conv_base.layers):\n",
    "#     layer.trainable = i > len(conv_base.layers)-33\n",
    "#     print(layer.name, layer.trainable)\n",
    "\n",
    "\n",
    "# # ALL OFF (not trainable)\n",
    "# for layer in conv_base.layers:\n",
    "#     layer.trainable = False\n"
   ]
  },
  {
   "cell_type": "code",
   "execution_count": 84,
   "metadata": {
    "scrolled": false
   },
   "outputs": [
    {
     "data": {
      "text/plain": [
       "0"
      ]
     },
     "execution_count": 84,
     "metadata": {},
     "output_type": "execute_result"
    }
   ],
   "source": [
    "len(conv_base.trainable_weights)"
   ]
  },
  {
   "cell_type": "code",
   "execution_count": 71,
   "metadata": {},
   "outputs": [],
   "source": [
    "conv_base.trainable = False"
   ]
  },
  {
   "cell_type": "markdown",
   "metadata": {},
   "source": [
    "### Add two dense layers "
   ]
  },
  {
   "cell_type": "code",
   "execution_count": 96,
   "metadata": {
    "scrolled": true
   },
   "outputs": [],
   "source": [
    "K.set_learning_phase(1)\n",
    "\n",
    "model = Sequential()\n",
    "model.add(conv_base)\n",
    "# model.add(layers.Flatten())\n",
    "model.add(layers.Dense(64, activation='relu'))\n",
    "model.add(layers.Dense(1, activation='sigmoid'))\n",
    "# \n",
    "# model.add(layers.Dense(2, activation='softmax'))\n",
    "# "
   ]
  },
  {
   "cell_type": "code",
   "execution_count": 97,
   "metadata": {
    "scrolled": false
   },
   "outputs": [
    {
     "name": "stdout",
     "output_type": "stream",
     "text": [
      "_________________________________________________________________\n",
      "Layer (type)                 Output Shape              Param #   \n",
      "=================================================================\n",
      "resnet50 (Model)             (None, 2048)              23587712  \n",
      "_________________________________________________________________\n",
      "dense_21 (Dense)             (None, 64)                131136    \n",
      "_________________________________________________________________\n",
      "dense_22 (Dense)             (None, 1)                 65        \n",
      "=================================================================\n",
      "Total params: 23,718,913\n",
      "Trainable params: 131,201\n",
      "Non-trainable params: 23,587,712\n",
      "_________________________________________________________________\n"
     ]
    }
   ],
   "source": [
    "model.summary()\n"
   ]
  },
  {
   "cell_type": "code",
   "execution_count": 98,
   "metadata": {
    "scrolled": true
   },
   "outputs": [
    {
     "data": {
      "text/plain": [
       "4"
      ]
     },
     "execution_count": 98,
     "metadata": {},
     "output_type": "execute_result"
    }
   ],
   "source": [
    "len(model.trainable_weights)"
   ]
  },
  {
   "cell_type": "code",
   "execution_count": 99,
   "metadata": {},
   "outputs": [],
   "source": [
    "# import os\n",
    "# os.environ[\"CUDA_VISIBLE_DEVICES\"] = '0' \n",
    "\n",
    "# model.compile(loss='binary_crossentropy',\n",
    "#               optimizer=keras.optimizers.RMSprop(lr= 1e-5),\n",
    "#               metrics=['acc'])"
   ]
  },
  {
   "cell_type": "code",
   "execution_count": 100,
   "metadata": {},
   "outputs": [],
   "source": [
    "# model.compile(loss='binary_crossentropy',\n",
    "              \n",
    "#               optimizer=keras.optimizers.adagrad(),\n",
    "#               metrics=['acc'])"
   ]
  },
  {
   "cell_type": "markdown",
   "metadata": {},
   "source": [
    "### Compile the model"
   ]
  },
  {
   "cell_type": "code",
   "execution_count": 101,
   "metadata": {},
   "outputs": [],
   "source": [
    "import os\n",
    "os.environ[\"CUDA_VISIBLE_DEVICES\"] = '0' \n",
    "\n",
    "model.compile(loss='binary_crossentropy',\n",
    "              optimizer=keras.optimizers.Adam(lr=1e-5), #1e-4 performs well too\n",
    "              metrics=['acc'])"
   ]
  },
  {
   "cell_type": "code",
   "execution_count": 114,
   "metadata": {},
   "outputs": [],
   "source": [
    "model_checkpoint_dir = \"./output\"\n",
    "\n",
    "if not os.path.exists(model_checkpoint_dir):\n",
    "    os.mkdir(model_checkpoint_dir)\n",
    "    print('Created directory: ', model_checkpoint_dir)\n",
    "\n",
    "model_checkpoint_dir = model_checkpoint_dir + \"/best_model.hdf5\"\n"
   ]
  },
  {
   "cell_type": "code",
   "execution_count": 115,
   "metadata": {},
   "outputs": [
    {
     "name": "stdout",
     "output_type": "stream",
     "text": [
      "data\t    output\t\t\t\t   test1.zip\r\n",
      "data_big    )))))))))))Resnet50-Keras-Copy1.ipynb  train.zip\r\n",
      "data_small  Resnet50-Keras.ipynb\r\n",
      "model.h5    Resnet50-PyTorch.ipynb\r\n"
     ]
    }
   ],
   "source": [
    "!ls"
   ]
  },
  {
   "cell_type": "markdown",
   "metadata": {},
   "source": [
    "Keras API allows us to easily save the model architecture at the stage it reaches the best validation accuracy (or any metric we want to optimize for). The saving is done through ModelCheckpoint callback."
   ]
  },
  {
   "cell_type": "code",
   "execution_count": 123,
   "metadata": {},
   "outputs": [
    {
     "ename": "SyntaxError",
     "evalue": "keyword argument repeated (<ipython-input-123-548ed012d5d9>, line 2)",
     "output_type": "error",
     "traceback": [
      "\u001b[0;36m  File \u001b[0;32m\"<ipython-input-123-548ed012d5d9>\"\u001b[0;36m, line \u001b[0;32m2\u001b[0m\n\u001b[0;31m    verbose=1, save_best_only=True, save_weights_only=False, mode='max', period=1, save_weights_only=True)\u001b[0m\n\u001b[0m                                                                                  ^\u001b[0m\n\u001b[0;31mSyntaxError\u001b[0m\u001b[0;31m:\u001b[0m keyword argument repeated\n"
     ]
    }
   ],
   "source": [
    "checkpoint_save_best = ModelCheckpoint(model_checkpoint_dir, monitor='val_acc',\n",
    "verbose=1, save_best_only=True, save_weights_only=False, mode='max', period=1)"
   ]
  },
  {
   "cell_type": "code",
   "execution_count": 117,
   "metadata": {
    "scrolled": false
   },
   "outputs": [
    {
     "data": {
      "image/png": "[encoded data removed]",
      "text/plain": [
       "<Figure size 864x576 with 2 Axes>"
      ]
     },
     "metadata": {},
     "output_type": "display_data"
    },
    {
     "name": "stdout",
     "output_type": "stream",
     "text": [
      "\n",
      "Epoch 00030: val_acc did not improve from 0.95900\n"
     ]
    }
   ],
   "source": [
    "history = model.fit_generator(\n",
    "      train_generator,\n",
    "      steps_per_epoch=100,\n",
    "      epochs=30,\n",
    "      validation_data=validation_generator,\n",
    "      validation_steps=50,\n",
    "        callbacks=[PlotLossesKeras(),\n",
    "                   checkpoint_save_best])"
   ]
  },
  {
   "cell_type": "code",
   "execution_count": null,
   "metadata": {},
   "outputs": [],
   "source": []
  },
  {
   "cell_type": "markdown",
   "metadata": {},
   "source": [
    "### Loading model and evaluation "
   ]
  },
  {
   "cell_type": "code",
   "execution_count": 178,
   "metadata": {},
   "outputs": [],
   "source": [
    "from keras.backend import clear_session\n",
    "clear_session()\n"
   ]
  },
  {
   "cell_type": "code",
   "execution_count": 179,
   "metadata": {
    "scrolled": true
   },
   "outputs": [
    {
     "name": "stdout",
     "output_type": "stream",
     "text": [
      "Model loaded successfully!\n"
     ]
    }
   ],
   "source": [
    "loaded_model = load_model(model_checkpoint_dir, compile=False) #compile causes issues if not turned off - we are not training the model so we don't need to compile the model #the workaround to this user warning error might be to set all weights to not-trainable explicitly (in a loop) https://stackoverflow.com/questions/49195189/error-loading-the-saved-optimizer-keras-python-raspberry\n",
    "print(\"Model loaded successfully!\")"
   ]
  },
  {
   "cell_type": "code",
   "execution_count": 180,
   "metadata": {},
   "outputs": [],
   "source": [
    "test_cat = \"/mnt/ml-team/homes/rafal.jakubanis/blogpost2-resnet50/data_small/test/cats/cat.1505.jpg\""
   ]
  },
  {
   "cell_type": "code",
   "execution_count": 181,
   "metadata": {},
   "outputs": [
    {
     "name": "stdout",
     "output_type": "stream",
     "text": [
      "IT'S A CAT! (0.0005)\n"
     ]
    }
   ],
   "source": [
    "img = image.load_img(test_cat, target_size=(197, 197))\n",
    "x = image.img_to_array(img)\n",
    "x = np.expand_dims(x, axis=0)\n",
    "preds = loaded_model.predict(x)\n",
    "pred_class = loaded_model.predict_classes(x)\n",
    "\n",
    "if pred_class[0][0] == 0:\n",
    "    print(\"IT'S A CAT! ({:.2})\".format(preds[0][0]))\n",
    "else:\n",
    "    print(\"IT'S A DOG! ({:.2})\".format(preds[0][0]))"
   ]
  },
  {
   "cell_type": "code",
   "execution_count": 182,
   "metadata": {},
   "outputs": [
    {
     "data": {
      "image/png": "[encoded data removed]",
      "text/plain": [
       "<Figure size 432x288 with 1 Axes>"
      ]
     },
     "metadata": {},
     "output_type": "display_data"
    }
   ],
   "source": [
    "img = img.resize((128,128))\n",
    "plt.imshow(img)\n",
    "plt.show()"
   ]
  },
  {
   "cell_type": "code",
   "execution_count": 172,
   "metadata": {},
   "outputs": [
    {
     "ename": "SyntaxError",
     "evalue": "invalid syntax (<ipython-input-172-30a905a9b31e>, line 1)",
     "output_type": "error",
     "traceback": [
      "\u001b[0;36m  File \u001b[0;32m\"<ipython-input-172-30a905a9b31e>\"\u001b[0;36m, line \u001b[0;32m1\u001b[0m\n\u001b[0;31m    class_pred = ??loaded_model.predict_classes(x)\u001b[0m\n\u001b[0m                 ^\u001b[0m\n\u001b[0;31mSyntaxError\u001b[0m\u001b[0;31m:\u001b[0m invalid syntax\n"
     ]
    }
   ],
   "source": [
    "class_pred = loaded_model.predict_classes(x)"
   ]
  },
  {
   "cell_type": "code",
   "execution_count": 171,
   "metadata": {},
   "outputs": [
    {
     "name": "stdout",
     "output_type": "stream",
     "text": [
      "Object `predict_classes` not found.\n"
     ]
    }
   ],
   "source": [
    "loaded_model.predict_classes(x)"
   ]
  },
  {
   "cell_type": "code",
   "execution_count": null,
   "metadata": {},
   "outputs": [],
   "source": []
  },
  {
   "cell_type": "code",
   "execution_count": null,
   "metadata": {},
   "outputs": [],
   "source": []
  },
  {
   "cell_type": "code",
   "execution_count": null,
   "metadata": {},
   "outputs": [],
   "source": []
  },
  {
   "cell_type": "code",
   "execution_count": null,
   "metadata": {},
   "outputs": [],
   "source": []
  },
  {
   "cell_type": "code",
   "execution_count": null,
   "metadata": {},
   "outputs": [],
   "source": []
  },
  {
   "cell_type": "code",
   "execution_count": null,
   "metadata": {},
   "outputs": [],
   "source": []
  },
  {
   "cell_type": "code",
   "execution_count": null,
   "metadata": {},
   "outputs": [],
   "source": []
  },
  {
   "cell_type": "code",
   "execution_count": null,
   "metadata": {},
   "outputs": [],
   "source": []
  },
  {
   "cell_type": "code",
   "execution_count": 38,
   "metadata": {
    "scrolled": true
   },
   "outputs": [
    {
     "data": {
      "text/plain": [
       "[<tf.Variable 'dense_1/kernel:0' shape=(2048, 1) dtype=float32_ref>,\n",
       " <tf.Variable 'dense_1/bias:0' shape=(1,) dtype=float32_ref>]"
      ]
     },
     "execution_count": 38,
     "metadata": {},
     "output_type": "execute_result"
    }
   ],
   "source": [
    "model.trainable_weights"
   ]
  },
  {
   "cell_type": "code",
   "execution_count": null,
   "metadata": {},
   "outputs": [],
   "source": [
    "K.set_learning_phase(0)\n",
    "inputs = Input(...)\n",
    "x = layer1(...)(inputs)\n",
    "x = layer2(...)(x)\n",
    "...\n",
    "x = layerN(...)(x)\n",
    "\n",
    "# Add training-mode layers\n",
    "K.set_learning_phase(1)\n",
    "x = layerNp1(...)(x)\n",
    "x = layerNp2(...)(x)"
   ]
  },
  {
   "cell_type": "code",
   "execution_count": 42,
   "metadata": {},
   "outputs": [
    {
     "name": "stdout",
     "output_type": "stream",
     "text": [
      "Found 2000 images belonging to 2 classes.\n",
      "Found 1000 images belonging to 2 classes.\n",
      "Epoch 1/1\n",
      "8/7 [==============================] - 15s 2s/step - loss: 8.6570 - acc: 0.2852 - val_loss: 6.4994 - val_acc: 0.5625\n",
      "2 trainable weights\n",
      "Finetuning...\n",
      "Epoch 1/100\n",
      "8/7 [==============================] - 15s 2s/step - loss: nan - acc: 0.6562 - val_loss: nan - val_acc: 0.6719\n",
      "Epoch 2/100\n",
      "8/7 [==============================] - 1s 163ms/step - loss: nan - acc: 0.6484 - val_loss: nan - val_acc: 0.6719\n",
      "Epoch 3/100\n",
      "8/7 [==============================] - 2s 205ms/step - loss: nan - acc: 0.6250 - val_loss: nan - val_acc: 0.6719\n",
      "Epoch 4/100\n",
      "8/7 [==============================] - 3s 355ms/step - loss: nan - acc: 0.6484 - val_loss: nan - val_acc: 0.6719\n",
      "Epoch 5/100\n",
      "8/7 [==============================] - 3s 349ms/step - loss: nan - acc: 0.6875 - val_loss: nan - val_acc: 0.6719\n",
      "Epoch 6/100\n",
      "8/7 [==============================] - 3s 323ms/step - loss: nan - acc: 0.6250 - val_loss: nan - val_acc: 0.6719\n",
      "Epoch 7/100\n",
      "8/7 [==============================] - 3s 364ms/step - loss: nan - acc: 0.6953 - val_loss: nan - val_acc: 0.6719\n",
      "Epoch 8/100\n",
      "8/7 [==============================] - 3s 337ms/step - loss: nan - acc: 0.5938 - val_loss: nan - val_acc: 0.6719\n",
      "Epoch 9/100\n",
      "8/7 [==============================] - 3s 353ms/step - loss: nan - acc: 0.6797 - val_loss: nan - val_acc: 0.6719\n",
      "Epoch 10/100\n",
      "8/7 [==============================] - 3s 383ms/step - loss: nan - acc: 0.6641 - val_loss: nan - val_acc: 0.6719\n",
      "Epoch 11/100\n",
      "8/7 [==============================] - 3s 373ms/step - loss: nan - acc: 0.6953 - val_loss: nan - val_acc: 0.6719\n",
      "Epoch 12/100\n",
      "8/7 [==============================] - 3s 370ms/step - loss: nan - acc: 0.6250 - val_loss: nan - val_acc: 0.6719\n",
      "Epoch 13/100\n",
      "8/7 [==============================] - 3s 411ms/step - loss: nan - acc: 0.5859 - val_loss: nan - val_acc: 0.6719\n",
      "Epoch 14/100\n",
      "8/7 [==============================] - 3s 353ms/step - loss: nan - acc: 0.6172 - val_loss: nan - val_acc: 0.6719\n",
      "Epoch 15/100\n",
      "8/7 [==============================] - 3s 330ms/step - loss: nan - acc: 0.6562 - val_loss: nan - val_acc: 0.6719\n",
      "Epoch 16/100\n",
      "8/7 [==============================] - 3s 376ms/step - loss: nan - acc: 0.7109 - val_loss: nan - val_acc: 0.6719\n",
      "Epoch 17/100\n",
      "8/7 [==============================] - 3s 349ms/step - loss: nan - acc: 0.7109 - val_loss: nan - val_acc: 0.6719\n",
      "Epoch 18/100\n",
      "8/7 [==============================] - 3s 361ms/step - loss: nan - acc: 0.6250 - val_loss: nan - val_acc: 0.6719\n",
      "Epoch 19/100\n",
      "8/7 [==============================] - 3s 363ms/step - loss: nan - acc: 0.6094 - val_loss: nan - val_acc: 0.6719\n",
      "Epoch 20/100\n",
      "8/7 [==============================] - 3s 375ms/step - loss: nan - acc: 0.7188 - val_loss: nan - val_acc: 0.6719\n",
      "Epoch 21/100\n",
      "8/7 [==============================] - 3s 346ms/step - loss: nan - acc: 0.6953 - val_loss: nan - val_acc: 0.6719\n",
      "Epoch 22/100\n",
      "8/7 [==============================] - 3s 349ms/step - loss: nan - acc: 0.6797 - val_loss: nan - val_acc: 0.6719\n",
      "Epoch 23/100\n",
      "8/7 [==============================] - 3s 341ms/step - loss: nan - acc: 0.6719 - val_loss: nan - val_acc: 0.6719\n",
      "Epoch 24/100\n",
      "8/7 [==============================] - 3s 337ms/step - loss: nan - acc: 0.6094 - val_loss: nan - val_acc: 0.6719\n",
      "Epoch 25/100\n",
      "8/7 [==============================] - 3s 317ms/step - loss: nan - acc: 0.6406 - val_loss: nan - val_acc: 0.6719\n",
      "Epoch 26/100\n",
      "8/7 [==============================] - 3s 334ms/step - loss: nan - acc: 0.6016 - val_loss: nan - val_acc: 0.6719\n",
      "Epoch 27/100\n",
      "8/7 [==============================] - 3s 338ms/step - loss: nan - acc: 0.6641 - val_loss: nan - val_acc: 0.6719\n",
      "Epoch 28/100\n",
      "8/7 [==============================] - 3s 338ms/step - loss: nan - acc: 0.6562 - val_loss: nan - val_acc: 0.6719\n",
      "Epoch 29/100\n",
      "8/7 [==============================] - 3s 337ms/step - loss: nan - acc: 0.6016 - val_loss: nan - val_acc: 0.6719\n",
      "Epoch 30/100\n",
      "8/7 [==============================] - 3s 353ms/step - loss: nan - acc: 0.7266 - val_loss: nan - val_acc: 0.6719\n",
      "Epoch 31/100\n",
      "8/7 [==============================] - 3s 327ms/step - loss: nan - acc: 0.5938 - val_loss: nan - val_acc: 0.6719\n",
      "Epoch 32/100\n",
      "8/7 [==============================] - 3s 368ms/step - loss: nan - acc: 0.6328 - val_loss: nan - val_acc: 0.6719\n",
      "Epoch 33/100\n",
      "8/7 [==============================] - 3s 330ms/step - loss: nan - acc: 0.6875 - val_loss: nan - val_acc: 0.6719\n",
      "Epoch 34/100\n",
      "8/7 [==============================] - 2s 276ms/step - loss: nan - acc: 0.6641 - val_loss: nan - val_acc: 0.6719\n",
      "Epoch 35/100\n",
      "8/7 [==============================] - 2s 265ms/step - loss: nan - acc: 0.6719 - val_loss: nan - val_acc: 0.6719\n",
      "Epoch 36/100\n",
      "8/7 [==============================] - 2s 255ms/step - loss: nan - acc: 0.6797 - val_loss: nan - val_acc: 0.6719\n",
      "Epoch 37/100\n",
      "8/7 [==============================] - 2s 273ms/step - loss: nan - acc: 0.6641 - val_loss: nan - val_acc: 0.6719\n",
      "Epoch 38/100\n",
      "8/7 [==============================] - 2s 278ms/step - loss: nan - acc: 0.7422 - val_loss: nan - val_acc: 0.6719\n",
      "Epoch 39/100\n",
      "8/7 [==============================] - 2s 259ms/step - loss: nan - acc: 0.6953 - val_loss: nan - val_acc: 0.6719\n",
      "Epoch 40/100\n",
      "8/7 [==============================] - 2s 272ms/step - loss: nan - acc: 0.6016 - val_loss: nan - val_acc: 0.6719\n",
      "Epoch 41/100\n",
      "8/7 [==============================] - 2s 305ms/step - loss: nan - acc: 0.6562 - val_loss: nan - val_acc: 0.6719\n",
      "Epoch 42/100\n",
      "8/7 [==============================] - 3s 316ms/step - loss: nan - acc: 0.5938 - val_loss: nan - val_acc: 0.6719\n",
      "Epoch 43/100\n",
      "8/7 [==============================] - 3s 341ms/step - loss: nan - acc: 0.6641 - val_loss: nan - val_acc: 0.6719\n",
      "Epoch 44/100\n",
      "8/7 [==============================] - 3s 341ms/step - loss: nan - acc: 0.6016 - val_loss: nan - val_acc: 0.6719\n",
      "Epoch 45/100\n",
      "8/7 [==============================] - 2s 307ms/step - loss: nan - acc: 0.6250 - val_loss: nan - val_acc: 0.6719\n",
      "Epoch 46/100\n",
      "8/7 [==============================] - 3s 314ms/step - loss: nan - acc: 0.6797 - val_loss: nan - val_acc: 0.6719\n",
      "Epoch 47/100\n",
      "8/7 [==============================] - 3s 333ms/step - loss: nan - acc: 0.6484 - val_loss: nan - val_acc: 0.6719\n",
      "Epoch 48/100\n",
      "8/7 [==============================] - 2s 295ms/step - loss: nan - acc: 0.6172 - val_loss: nan - val_acc: 0.6719\n",
      "Epoch 49/100\n",
      "8/7 [==============================] - 3s 326ms/step - loss: nan - acc: 0.6094 - val_loss: nan - val_acc: 0.6719\n",
      "Epoch 50/100\n",
      "8/7 [==============================] - 3s 321ms/step - loss: nan - acc: 0.6641 - val_loss: nan - val_acc: 0.6719\n",
      "Epoch 51/100\n",
      "8/7 [==============================] - 3s 324ms/step - loss: nan - acc: 0.6562 - val_loss: nan - val_acc: 0.6719\n",
      "Epoch 52/100\n",
      "8/7 [==============================] - 3s 321ms/step - loss: nan - acc: 0.7109 - val_loss: nan - val_acc: 0.6719\n",
      "Epoch 53/100\n",
      "8/7 [==============================] - 3s 322ms/step - loss: nan - acc: 0.6484 - val_loss: nan - val_acc: 0.6719\n",
      "Epoch 54/100\n",
      "8/7 [==============================] - 3s 335ms/step - loss: nan - acc: 0.7422 - val_loss: nan - val_acc: 0.6719\n",
      "Epoch 55/100\n",
      "8/7 [==============================] - 3s 315ms/step - loss: nan - acc: 0.7031 - val_loss: nan - val_acc: 0.6719\n",
      "Epoch 56/100\n",
      "8/7 [==============================] - 3s 325ms/step - loss: nan - acc: 0.6406 - val_loss: nan - val_acc: 0.6719\n",
      "Epoch 57/100\n",
      "8/7 [==============================] - 3s 314ms/step - loss: nan - acc: 0.6719 - val_loss: nan - val_acc: 0.6719\n",
      "Epoch 58/100\n",
      "8/7 [==============================] - 3s 315ms/step - loss: nan - acc: 0.6406 - val_loss: nan - val_acc: 0.6719\n",
      "Epoch 59/100\n",
      "8/7 [==============================] - 3s 337ms/step - loss: nan - acc: 0.6719 - val_loss: nan - val_acc: 0.6719\n",
      "Epoch 60/100\n",
      "8/7 [==============================] - 2s 305ms/step - loss: nan - acc: 0.6562 - val_loss: nan - val_acc: 0.6719\n",
      "Epoch 61/100\n",
      "8/7 [==============================] - 2s 305ms/step - loss: nan - acc: 0.6250 - val_loss: nan - val_acc: 0.6719\n",
      "Epoch 62/100\n",
      "8/7 [==============================] - 3s 337ms/step - loss: nan - acc: 0.6328 - val_loss: nan - val_acc: 0.6719\n",
      "Epoch 63/100\n",
      "8/7 [==============================] - 3s 370ms/step - loss: nan - acc: 0.6719 - val_loss: nan - val_acc: 0.6719\n",
      "Epoch 64/100\n",
      "8/7 [==============================] - 3s 320ms/step - loss: nan - acc: 0.6641 - val_loss: nan - val_acc: 0.6719\n",
      "Epoch 65/100\n",
      "8/7 [==============================] - 2s 256ms/step - loss: nan - acc: 0.6484 - val_loss: nan - val_acc: 0.6562\n",
      "Epoch 66/100\n",
      "8/7 [==============================] - 2s 271ms/step - loss: nan - acc: 0.6641 - val_loss: nan - val_acc: 0.6562\n",
      "Epoch 67/100\n",
      "8/7 [==============================] - 2s 298ms/step - loss: nan - acc: 0.6328 - val_loss: nan - val_acc: 0.6562\n",
      "Epoch 68/100\n",
      "8/7 [==============================] - 2s 283ms/step - loss: nan - acc: 0.6172 - val_loss: nan - val_acc: 0.6562\n",
      "Epoch 69/100\n",
      "8/7 [==============================] - 2s 242ms/step - loss: nan - acc: 0.6484 - val_loss: nan - val_acc: 0.6562\n",
      "Epoch 70/100\n",
      "8/7 [==============================] - 2s 299ms/step - loss: nan - acc: 0.6172 - val_loss: nan - val_acc: 0.6562\n",
      "Epoch 71/100\n",
      "8/7 [==============================] - 2s 301ms/step - loss: nan - acc: 0.6953 - val_loss: nan - val_acc: 0.6562\n",
      "Epoch 72/100\n",
      "8/7 [==============================] - 2s 267ms/step - loss: nan - acc: 0.6875 - val_loss: nan - val_acc: 0.6562\n",
      "Epoch 73/100\n",
      "8/7 [==============================] - 2s 273ms/step - loss: nan - acc: 0.6484 - val_loss: nan - val_acc: 0.6562\n",
      "Epoch 74/100\n",
      "8/7 [==============================] - 2s 268ms/step - loss: nan - acc: 0.5938 - val_loss: nan - val_acc: 0.6719\n",
      "Epoch 75/100\n",
      "8/7 [==============================] - 2s 252ms/step - loss: nan - acc: 0.6875 - val_loss: nan - val_acc: 0.6719\n",
      "Epoch 76/100\n",
      "8/7 [==============================] - 2s 268ms/step - loss: nan - acc: 0.6562 - val_loss: nan - val_acc: 0.6719\n",
      "Epoch 77/100\n",
      "8/7 [==============================] - 2s 255ms/step - loss: nan - acc: 0.6094 - val_loss: nan - val_acc: 0.6719\n",
      "Epoch 78/100\n",
      "8/7 [==============================] - 2s 270ms/step - loss: nan - acc: 0.6875 - val_loss: nan - val_acc: 0.6719\n",
      "Epoch 79/100\n",
      "8/7 [==============================] - 2s 310ms/step - loss: nan - acc: 0.6328 - val_loss: nan - val_acc: 0.6719\n",
      "Epoch 80/100\n",
      "8/7 [==============================] - 2s 247ms/step - loss: nan - acc: 0.6875 - val_loss: nan - val_acc: 0.6719\n",
      "Epoch 81/100\n",
      "8/7 [==============================] - 2s 250ms/step - loss: nan - acc: 0.6797 - val_loss: nan - val_acc: 0.6719\n",
      "Epoch 82/100\n",
      "8/7 [==============================] - 2s 261ms/step - loss: nan - acc: 0.6641 - val_loss: nan - val_acc: 0.6719\n",
      "Epoch 83/100\n",
      "8/7 [==============================] - 2s 255ms/step - loss: nan - acc: 0.6250 - val_loss: nan - val_acc: 0.6719\n",
      "Epoch 84/100\n",
      "8/7 [==============================] - 2s 256ms/step - loss: nan - acc: 0.6562 - val_loss: nan - val_acc: 0.6719\n",
      "Epoch 85/100\n",
      "8/7 [==============================] - 2s 243ms/step - loss: nan - acc: 0.6562 - val_loss: nan - val_acc: 0.6719\n",
      "Epoch 86/100\n",
      "8/7 [==============================] - 2s 255ms/step - loss: nan - acc: 0.6328 - val_loss: nan - val_acc: 0.6719\n",
      "Epoch 87/100\n",
      "8/7 [==============================] - 2s 255ms/step - loss: nan - acc: 0.5859 - val_loss: nan - val_acc: 0.6719\n",
      "Epoch 88/100\n",
      "8/7 [==============================] - 2s 264ms/step - loss: nan - acc: 0.7031 - val_loss: nan - val_acc: 0.6719\n",
      "Epoch 89/100\n",
      "8/7 [==============================] - 2s 258ms/step - loss: nan - acc: 0.6875 - val_loss: nan - val_acc: 0.6719\n",
      "Epoch 90/100\n",
      "8/7 [==============================] - 2s 250ms/step - loss: nan - acc: 0.6094 - val_loss: nan - val_acc: 0.6719\n",
      "Epoch 91/100\n",
      "8/7 [==============================] - 2s 271ms/step - loss: nan - acc: 0.7578 - val_loss: nan - val_acc: 0.6719\n",
      "Epoch 92/100\n",
      "8/7 [==============================] - 2s 264ms/step - loss: nan - acc: 0.6250 - val_loss: nan - val_acc: 0.6719\n",
      "Epoch 93/100\n",
      "8/7 [==============================] - 2s 243ms/step - loss: nan - acc: 0.6641 - val_loss: nan - val_acc: 0.6719\n",
      "Epoch 94/100\n",
      "8/7 [==============================] - 2s 304ms/step - loss: nan - acc: 0.6953 - val_loss: nan - val_acc: 0.7188\n",
      "Epoch 95/100\n",
      "8/7 [==============================] - 2s 263ms/step - loss: nan - acc: 0.7031 - val_loss: nan - val_acc: 0.7188\n",
      "Epoch 96/100\n",
      "8/7 [==============================] - 2s 271ms/step - loss: nan - acc: 0.6875 - val_loss: nan - val_acc: 0.7188\n",
      "Epoch 97/100\n",
      "8/7 [==============================] - 2s 251ms/step - loss: nan - acc: 0.6875 - val_loss: nan - val_acc: 0.7188\n",
      "Epoch 98/100\n",
      "8/7 [==============================] - 2s 246ms/step - loss: nan - acc: 0.6953 - val_loss: nan - val_acc: 0.7188\n",
      "Epoch 99/100\n",
      "8/7 [==============================] - 2s 280ms/step - loss: nan - acc: 0.7031 - val_loss: nan - val_acc: 0.7188\n",
      "Epoch 100/100\n",
      "8/7 [==============================] - 2s 270ms/step - loss: nan - acc: 0.6641 - val_loss: nan - val_acc: 0.7188\n"
     ]
    }
   ],
   "source": [
    "import gc\n",
    "import sys\n",
    " \n",
    "from keras.preprocessing.image import ImageDataGenerator\n",
    "from keras.models import Model\n",
    "from keras.layers import *\n",
    "from keras import applications as apps\n",
    "from keras import optimizers as opt\n",
    "from keras.callbacks import ModelCheckpoint, EarlyStopping\n",
    "from keras.utils import to_categorical\n",
    " \n",
    "def setup_to_transfer_learn(model, base_model) -> 'model':\n",
    "    \"\"\"Setup the models for transfer learning\"\"\"\n",
    "    for layer in base_model.layers:\n",
    "        layer.trainable = False\n",
    " \n",
    "    model.compile(\n",
    "        optimizer='rmsprop',    \n",
    "        loss='binary_crossentropy',\n",
    "        metrics=['accuracy']\n",
    "    )\n",
    "   \n",
    "    return model\n",
    " \n",
    " \n",
    "def setup_to_finetune(model, n) -> 'model':\n",
    "    \"\"\"Setup the models for finetunning.\"\"\"\n",
    "    # Setting everything bellow n to be not trainable\n",
    "    for i, layer in enumerate(model.layers):\n",
    "            layer.trainable = i > n\n",
    " \n",
    "    model.compile(\n",
    "        optimizer=opt.SGD(lr=0.0001),\n",
    "        loss='categorical_crossentropy',\n",
    "        metrics=['accuracy']\n",
    "    )\n",
    " \n",
    "    return model\n",
    " \n",
    " \n",
    "def main():\n",
    "    filename_model_json = 'model.json'\n",
    "    filename_model_weights = 'model.h5'\n",
    "    batch_size = 16\n",
    "    num_classes = 2\n",
    "    steps_train = (2000/256)\n",
    "    steps_test = (1000/256)\n",
    " \n",
    "    base_model = apps.resnet50.ResNet50(include_top=False)\n",
    "    ppf = apps.resnet50.preprocess_input\n",
    " \n",
    "    x = base_model.output\n",
    "    x = GlobalAveragePooling2D()(x)\n",
    "    pred = Dense(num_classes, activation='relu')(x)\n",
    "    model = Model(inputs=base_model.input, outputs=pred)\n",
    "   \n",
    "    train_gen = ImageDataGenerator(\n",
    "        #preprocessing_function=ppf,\n",
    "        rotation_range=30,\n",
    "        width_shift_range=0.2,\n",
    "        height_shift_range=0.2,\n",
    "        shear_range=0.2,\n",
    "        zoom_range=0.2,\n",
    "        horizontal_flip=True\n",
    "    )\n",
    " \n",
    "    train_gen = train_gen.flow_from_directory(\n",
    "        directories_dict['train_dir'],\n",
    "        target_size=(224,224),\n",
    "        class_mode='categorical',\n",
    "        batch_size=batch_size\n",
    "    )\n",
    " \n",
    "    test_gen = ImageDataGenerator(\n",
    "        #preprocessing_function=ppf\n",
    "        #rescale=1./255\n",
    "    )\n",
    " \n",
    "    test_gen = test_gen.flow_from_directory(\n",
    "        directories_dict['validation_dir'],\n",
    "        target_size=(224,224),\n",
    "        class_mode='categorical',\n",
    "        batch_size=batch_size\n",
    "    )\n",
    " \n",
    "    model = setup_to_transfer_learn(model, base_model)\n",
    " \n",
    "    model.fit_generator(\n",
    "        train_gen,\n",
    "        steps_per_epoch=steps_train,\n",
    "        epochs=1,\n",
    "        validation_data=test_gen,\n",
    "        validation_steps=steps_test,\n",
    "        class_weight='auto',\n",
    "        \n",
    "    )\n",
    " \n",
    "    model = setup_to_finetune(model, len(base_model.layers)-1)\n",
    " \n",
    "    chkpt_save_best = ModelCheckpoint(filename_model_weights, monitor='val_acc',\n",
    "    verbose=1, save_best_only=True, save_weights_only=False, mode='auto', period=1)\n",
    "    print(\"{} trainable weights\".format(len(model.trainable_weights)))\n",
    "    print(\"Finetuning...\")\n",
    "    model.fit_generator(\n",
    "        train_gen,\n",
    "        steps_per_epoch=steps_train,\n",
    "        epochs=100,\n",
    "        validation_data=test_gen,\n",
    "        validation_steps=steps_test,\n",
    "        class_weight='auto',\n",
    "#         callbacks=[chkpt_save_best]\n",
    "    )\n",
    " \n",
    "#     # Saving the model structure and its weights\n",
    "#     model_json = model.to_json()\n",
    "#     with open(filename_model_json, 'w') as json_file:\n",
    "#         json_file.write(model_json)\n",
    "#     model.save_weights(filename_model_weights)\n",
    " \n",
    "#     print(model.evaluate_generator(test_gen,10))\n",
    " \n",
    " \n",
    "if __name__ == '__main__':\n",
    "    main()"
   ]
  },
  {
   "cell_type": "code",
   "execution_count": null,
   "metadata": {
    "scrolled": true
   },
   "outputs": [],
   "source": [
    "len(conv_base.layers)-31"
   ]
  },
  {
   "cell_type": "code",
   "execution_count": null,
   "metadata": {},
   "outputs": [],
   "source": [
    "(all trainable)"
   ]
  },
  {
   "cell_type": "code",
   "execution_count": null,
   "metadata": {},
   "outputs": [],
   "source": [
    "history.history['val_acc'] "
   ]
  },
  {
   "cell_type": "code",
   "execution_count": null,
   "metadata": {},
   "outputs": [],
   "source": [
    "[0.9569999921321869,\n",
    " 0.9679999947547913,\n",
    " 0.9679999959468841,\n",
    " 0.9759999966621399,\n",
    " 0.9749999964237213,\n",
    " 0.9729999959468841,\n",
    " 0.9599999916553498,\n",
    " 0.9739999961853028,\n",
    " 0.9719999945163726,\n",
    " 0.9449999940395355]"
   ]
  },
  {
   "cell_type": "code",
   "execution_count": null,
   "metadata": {},
   "outputs": [],
   "source": [
    "[0.9689999949932099,\n",
    " 0.9709999942779541,\n",
    " 0.9729999935626984,\n",
    " 0.9679999935626984,\n",
    " 0.9689999949932099,\n",
    " 0.9729999947547913,\n",
    " 0.9699999952316284,\n",
    " 0.9719999933242798,\n",
    " 0.9729999959468841,\n",
    " 0.9759999942779541]\n"
   ]
  },
  {
   "cell_type": "code",
   "execution_count": null,
   "metadata": {},
   "outputs": [],
   "source": [
    "[0.9569999921321869,\n",
    " 0.9679999947547913,\n",
    " 0.9679999959468841,\n",
    " 0.9759999966621399,\n",
    " 0.9749999964237213,\n",
    " 0.9729999959468841,\n",
    " 0.9599999916553498,\n",
    " 0.9739999961853028,\n",
    " 0.9719999945163726,\n",
    " 0.9449999940395355]"
   ]
  },
  {
   "cell_type": "code",
   "execution_count": null,
   "metadata": {},
   "outputs": [],
   "source": [
    "layers[-31:]"
   ]
  },
  {
   "cell_type": "code",
   "execution_count": null,
   "metadata": {},
   "outputs": [],
   "source": [
    "Goal: 99% "
   ]
  }
 ],
 "metadata": {
  "kernelspec": {
   "display_name": "python3",
   "language": "python",
   "name": "python3"
  },
  "language_info": {
   "codemirror_mode": {
    "name": "ipython",
    "version": 3
   },
   "file_extension": ".py",
   "mimetype": "text/x-python",
   "name": "python",
   "nbconvert_exporter": "python",
   "pygments_lexer": "ipython3",
   "version": "3.5.2"
  },
  "toc": {
   "base_numbering": 1,
   "nav_menu": {},
   "number_sections": true,
   "sideBar": true,
   "skip_h1_title": false,
   "title_cell": "Table of Contents",
   "title_sidebar": "Contents",
   "toc_cell": false,
   "toc_position": {
    "height": "calc(100% - 180px)",
    "left": "10px",
    "top": "150px",
    "width": "292px"
   },
   "toc_section_display": true,
   "toc_window_display": true
  }
 },
 "nbformat": 4,
 "nbformat_minor": 2
}
